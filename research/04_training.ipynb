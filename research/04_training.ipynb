{
 "cells": [
  {
   "cell_type": "code",
   "execution_count": 1,
   "metadata": {},
   "outputs": [],
   "source": [
    "import os"
   ]
  },
  {
   "cell_type": "code",
   "execution_count": 2,
   "metadata": {},
   "outputs": [
    {
     "data": {
      "text/plain": [
       "'c:\\\\Users\\\\User\\\\Desktop\\\\PROJECTS\\\\Student-predictor\\\\student app\\\\research'"
      ]
     },
     "execution_count": 2,
     "metadata": {},
     "output_type": "execute_result"
    }
   ],
   "source": [
    "%pwd"
   ]
  },
  {
   "cell_type": "code",
   "execution_count": 3,
   "metadata": {},
   "outputs": [],
   "source": [
    "os.chdir(\"../\")"
   ]
  },
  {
   "cell_type": "code",
   "execution_count": 4,
   "metadata": {},
   "outputs": [
    {
     "data": {
      "text/plain": [
       "'c:\\\\Users\\\\User\\\\Desktop\\\\PROJECTS\\\\Student-predictor\\\\student app'"
      ]
     },
     "execution_count": 4,
     "metadata": {},
     "output_type": "execute_result"
    }
   ],
   "source": [
    "%pwd"
   ]
  },
  {
   "cell_type": "code",
   "execution_count": 5,
   "metadata": {},
   "outputs": [],
   "source": [
    "from dataclasses import dataclass\n",
    "from pathlib import Path\n",
    "\n",
    "\n",
    "@dataclass(frozen=True)\n",
    "class DataTransformationConfig:\n",
    "    root_dir: Path\n",
    "    train_df: Path\n",
    "\n",
    "@dataclass(frozen=True)\n",
    "class TrainingConfig:\n",
    "    root_dir: Path\n",
    "    training_data: Path\n",
    "    trained_model_path: Path\n"
   ]
  },
  {
   "cell_type": "code",
   "execution_count": 6,
   "metadata": {},
   "outputs": [],
   "source": [
    "from studentApp.constants import *\n",
    "from studentApp.utils.common import read_yaml, create_directories\n",
    "import pandas as pd"
   ]
  },
  {
   "cell_type": "code",
   "execution_count": 7,
   "metadata": {},
   "outputs": [],
   "source": [
    "class ConfigurationManager:\n",
    "    def __init__(\n",
    "        self, \n",
    "        config_filepath = CONFIG_FILE_PATH,\n",
    "        params_filepath = PARAMS_FILE_PATH):\n",
    "        self.config = read_yaml(config_filepath)\n",
    "        self.params = read_yaml(params_filepath)\n",
    "        create_directories([self.config.artifacts_root])\n",
    "\n",
    "    def get_data_transformation_config(self) -> DataTransformationConfig:\n",
    "        config = self.config.data_transformation\n",
    "        \n",
    "        create_directories([config.root_dir])\n",
    "\n",
    "        data_transformation_config = DataTransformationConfig(\n",
    "            root_dir=Path(config.root_dir),\n",
    "            train_df=Path(config.train_df),\n",
    "          \n",
    "        )\n",
    "\n",
    "        return  data_transformation_config\n",
    "\n",
    "    def get_training_config(self):\n",
    "        training = self.config.training\n",
    "        training_data_path = 'artifacts/data_ingestion/train.csv'  # Replace with the correct file path\n",
    "        training_root_dir = 'artifacts'  # Replace with the desired root directory path\n",
    "\n",
    "        create_directories([Path(training_root_dir)])\n",
    "\n",
    "        training_config = TrainingConfig(\n",
    "            root_dir=Path(training_root_dir),\n",
    "            training_data=Path(training_data_path),\n",
    "            trained_model_path=Path(training.trained_model_path),\n",
    "\n",
    "            # Add other configuration attributes as needed\n",
    "        )\n",
    "\n",
    "        return training_config\n"
   ]
  },
  {
   "cell_type": "code",
   "execution_count": 8,
   "metadata": {},
   "outputs": [],
   "source": [
    "import os\n",
    "import sys\n",
    "from dataclasses import dataclass\n",
    "\n",
    "from catboost import CatBoostRegressor\n",
    "from sklearn.ensemble import (\n",
    "    AdaBoostRegressor,\n",
    "    GradientBoostingRegressor,\n",
    "    RandomForestRegressor,\n",
    ")\n",
    "from sklearn.linear_model import LinearRegression\n",
    "from sklearn.metrics import r2_score\n",
    "from sklearn.neighbors import KNeighborsRegressor\n",
    "from sklearn.tree import DecisionTreeRegressor\n",
    "from xgboost import XGBRegressor\n",
    "from studentApp.constants import *\n",
    "from studentApp.utils.common import read_yaml, create_directories\n",
    "import pandas as pd\n",
    "from sklearn.model_selection import train_test_split\n",
    "from sklearn.preprocessing import OneHotEncoder, StandardScaler\n",
    "from sklearn.compose import ColumnTransformer\n"
   ]
  },
  {
   "cell_type": "code",
   "execution_count": 9,
   "metadata": {},
   "outputs": [],
   "source": [
    "class DataTransformation:\n",
    "    def __init__(self, config):\n",
    "        self.config = config\n",
    "        self.train_df = None\n",
    "        self.train = None\n",
    "        self.X = None\n",
    "        self.y = None\n",
    "\n",
    "    def transformation_data(self):\n",
    "        train_df = pd.read_csv(self.config.train_df)\n",
    "\n",
    "        X = train_df.drop(columns=['math_score'], axis=1)\n",
    "        y = train_df['math_score']\n",
    "\n",
    "        # Create Column Transformer with 3 types of transformers\n",
    "        num_features = X.select_dtypes(exclude=\"object\").columns\n",
    "        cat_features = X.select_dtypes(include=\"object\").columns\n",
    "\n",
    "        numeric_transformer = StandardScaler()\n",
    "        oh_transformer = OneHotEncoder()\n",
    "\n",
    "        preprocessor = ColumnTransformer(\n",
    "            [\n",
    "                (\"OneHotEncoder\", oh_transformer, cat_features),\n",
    "                (\"StandardScaler\", numeric_transformer, num_features),\n",
    "            ]\n",
    "        )\n",
    "        self.X = preprocessor.fit_transform(X)\n",
    "        self.y = y\n",
    "\n",
    "        print(\"Data transformation complete\")\n"
   ]
  },
  {
   "cell_type": "code",
   "execution_count": 19,
   "metadata": {},
   "outputs": [],
   "source": [
    "from sklearn.linear_model import LinearRegression\n",
    "from sklearn.ensemble import RandomForestRegressor, AdaBoostRegressor\n",
    "from sklearn.neighbors import KNeighborsRegressor\n",
    "from sklearn.tree import DecisionTreeRegressor\n",
    "from sklearn.metrics import accuracy_score, roc_auc_score, mean_squared_error, r2_score\n",
    "from xgboost import XGBRegressor\n",
    "from catboost import CatBoostRegressor\n",
    "from sklearn.linear_model import Lasso, Ridge\n",
    "from pathlib import Path\n",
    "import joblib\n",
    "import os\n",
    "import pickle\n",
    "\n",
    "\n",
    "\n",
    "\n",
    "class Training:\n",
    "    def __init__(self, config):\n",
    "        self.config = config\n",
    "        self.models = {\n",
    "            \"Linear Regression\": LinearRegression(),\n",
    "            \"Lasso\": Lasso(),\n",
    "            \"Ridge\": Ridge(),\n",
    "            \"K-Neighbors Regressor\": KNeighborsRegressor(),\n",
    "            \"Decision Tree\": DecisionTreeRegressor(),\n",
    "            \"Random Forest Regressor\": RandomForestRegressor(),\n",
    "            \"XGBRegressor\": XGBRegressor(),\n",
    "            \"CatBoosting Regressor\": CatBoostRegressor(verbose=False),\n",
    "            \"AdaBoost Regressor\": AdaBoostRegressor()\n",
    "        }\n",
    "        self.metrics = {\n",
    "            \"Mean Squared Error\": mean_squared_error,\n",
    "            \"R2 Score\": r2_score\n",
    "        }\n",
    "\n",
    "    def save_model(self, model_name, model):\n",
    "        save_directory = self.config.trained_model_path\n",
    "        save_path = save_directory / \"model.pkl\"\n",
    "        with open(save_path, \"wb\") as f:\n",
    "            pickle.dump(model, f)\n",
    "        print(f\"The best model '{model_name}' has been saved.\")\n",
    "\n",
    "    def evaluate_model(self, model, X, y):\n",
    "        scores = {}\n",
    "        for metric_name, metric_func in self.metrics.items():\n",
    "            y_pred = model.predict(X)\n",
    "            score = metric_func(y, y_pred)\n",
    "            scores[metric_name] = score\n",
    "        return scores\n",
    "\n",
    "    def train(self, X_train, y_train):\n",
    "        best_model = None\n",
    "        best_model_name = \"\"\n",
    "        best_scores = None\n",
    "        total_models = len(self.models)\n",
    "        current_model = 1\n",
    "\n",
    "        for model_name, model in self.models.items():\n",
    "            model.fit(X_train, y_train)  # Train model\n",
    "\n",
    "            # Evaluate the model using multiple metrics\n",
    "            scores = self.evaluate_model(model, X_train, y_train)\n",
    "\n",
    "            if best_scores is None or all(score > best_scores[metric] for metric, score in scores.items()):\n",
    "                best_scores = scores\n",
    "                best_model_name = model_name\n",
    "                best_model = model\n",
    "\n",
    "            # Display metrics for all models\n",
    "            print(f\"Model: {model_name}\")\n",
    "            for metric, score in scores.items():\n",
    "                print(f\"- {metric}: {score:.4f}\")\n",
    "\n",
    "            # Calculate and display percentage progress\n",
    "            progress = current_model / total_models * 100\n",
    "            print(f\"Training Progress: {progress:.2f}%\")\n",
    "            current_model += 1\n",
    "\n",
    "        if best_model is not None:\n",
    "            self.save_model(best_model_name, best_model)\n",
    "            print(\"\\nBest Model Scores:\")\n",
    "            for metric, score in best_scores.items():\n",
    "                print(f\"- {metric}: {score:.4f}\")\n",
    "        else:\n",
    "            print(\"No best model found.\")"
   ]
  },
  {
   "cell_type": "code",
   "execution_count": 20,
   "metadata": {},
   "outputs": [
    {
     "name": "stdout",
     "output_type": "stream",
     "text": [
      "[2023-07-18 19:28:25,198: INFO: common: yaml file: config\\config.yaml loaded successfully]\n",
      "[2023-07-18 19:28:25,205: INFO: common: yaml file: params.yaml loaded successfully]\n",
      "[2023-07-18 19:28:25,206: INFO: common: created directory at: artifacts]\n",
      "[2023-07-18 19:28:25,213: INFO: common: created directory at: artifacts/data_ingestion]\n",
      "Data transformation complete\n",
      "[2023-07-18 19:28:25,288: INFO: common: created directory at: artifacts]\n",
      "Model: Linear Regression\n",
      "- Mean Squared Error: 29.1296\n",
      "- R2 Score: 0.8678\n",
      "Training Progress: 11.11%\n",
      "Model: Lasso\n",
      "- Mean Squared Error: 43.8834\n",
      "- R2 Score: 0.8009\n",
      "Training Progress: 22.22%\n",
      "Model: Ridge\n",
      "- Mean Squared Error: 29.0001\n",
      "- R2 Score: 0.8684\n",
      "Training Progress: 33.33%\n"
     ]
    },
    {
     "name": "stdout",
     "output_type": "stream",
     "text": [
      "Model: K-Neighbors Regressor\n",
      "- Mean Squared Error: 34.0292\n",
      "- R2 Score: 0.8456\n",
      "Training Progress: 44.44%\n",
      "Model: Decision Tree\n",
      "- Mean Squared Error: 0.1176\n",
      "- R2 Score: 0.9995\n",
      "Training Progress: 55.56%\n",
      "Model: Random Forest Regressor\n",
      "- Mean Squared Error: 5.1365\n",
      "- R2 Score: 0.9767\n",
      "Training Progress: 66.67%\n",
      "Model: XGBRegressor\n",
      "- Mean Squared Error: 1.2184\n",
      "- R2 Score: 0.9945\n",
      "Training Progress: 77.78%\n",
      "Model: CatBoosting Regressor\n",
      "- Mean Squared Error: 10.0770\n",
      "- R2 Score: 0.9543\n",
      "Training Progress: 88.89%\n",
      "Model: AdaBoost Regressor\n",
      "- Mean Squared Error: 34.2818\n",
      "- R2 Score: 0.8445\n",
      "Training Progress: 100.00%\n",
      "The best model 'Linear Regression' has been saved.\n",
      "\n",
      "Best Model Scores:\n",
      "- Mean Squared Error: 29.1296\n",
      "- R2 Score: 0.8678\n"
     ]
    }
   ],
   "source": [
    "# Integration of DataTransformation and Training classes\n",
    "try:\n",
    "\n",
    "    config = ConfigurationManager()\n",
    "    data_transformation_config = config.get_data_transformation_config()\n",
    "    data_transformation = DataTransformation(config=data_transformation_config)\n",
    "    data_transformation.transformation_data()\n",
    "\n",
    "    \n",
    "    # data_transformation = DataTransformation(config)  # Create an instance of DataTransformation\n",
    "    # data_transformation.transformation_data()  # Perform data transformation\n",
    "\n",
    "    X_train = data_transformation.X\n",
    "    y_train = data_transformation.y\n",
    "    \n",
    "    training_config = config.get_training_config()\n",
    "    training = Training(config=training_config)\n",
    "    # training = Training()  # Create an instance of Training\n",
    "    training.train(X_train, y_train) \n",
    "\n",
    "except Exception as e:\n",
    "    raise e"
   ]
  },
  {
   "cell_type": "markdown",
   "metadata": {},
   "source": []
  },
  {
   "cell_type": "code",
   "execution_count": 12,
   "metadata": {},
   "outputs": [],
   "source": [
    "# try:\n",
    "\n",
    "  \n",
    "\n",
    "#     training_config = config.get_training_config()\n",
    "#     training = Training(config=training_config)\n",
    "#     training.train_generator()\n",
    "#     training.train(\n",
    "#         callback_list=callback_list\n",
    "#     )\n",
    "    \n",
    "# except Exception as e:\n",
    "#     raise e"
   ]
  }
 ],
 "metadata": {
  "kernelspec": {
   "display_name": "student",
   "language": "python",
   "name": "python3"
  },
  "language_info": {
   "codemirror_mode": {
    "name": "ipython",
    "version": 3
   },
   "file_extension": ".py",
   "mimetype": "text/x-python",
   "name": "python",
   "nbconvert_exporter": "python",
   "pygments_lexer": "ipython3",
   "version": "3.8.17"
  },
  "orig_nbformat": 4
 },
 "nbformat": 4,
 "nbformat_minor": 2
}
